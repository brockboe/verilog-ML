{
 "cells": [
  {
   "cell_type": "code",
   "execution_count": 2,
   "metadata": {},
   "outputs": [
    {
     "ename": "ModuleNotFoundError",
     "evalue": "No module named 'pynq'",
     "output_type": "error",
     "traceback": [
      "\u001b[1;31m---------------------------------------------------------------------------\u001b[0m",
      "\u001b[1;31mModuleNotFoundError\u001b[0m                       Traceback (most recent call last)",
      "\u001b[1;32m<ipython-input-2-9e4acb169bef>\u001b[0m in \u001b[0;36m<module>\u001b[1;34m\u001b[0m\n\u001b[1;32m----> 1\u001b[1;33m \u001b[1;32mfrom\u001b[0m \u001b[0mpynq\u001b[0m \u001b[1;32mimport\u001b[0m \u001b[0mOverlay\u001b[0m\u001b[1;33m\u001b[0m\u001b[1;33m\u001b[0m\u001b[0m\n\u001b[0m\u001b[0;32m      2\u001b[0m \u001b[1;32mimport\u001b[0m \u001b[0mpynq\u001b[0m\u001b[1;33m.\u001b[0m\u001b[0mlib\u001b[0m\u001b[1;33m.\u001b[0m\u001b[0mdma\u001b[0m\u001b[1;33m\u001b[0m\u001b[1;33m\u001b[0m\u001b[0m\n\u001b[0;32m      3\u001b[0m \u001b[1;32mimport\u001b[0m \u001b[0mnumpy\u001b[0m \u001b[1;32mas\u001b[0m \u001b[0mnp\u001b[0m\u001b[1;33m\u001b[0m\u001b[1;33m\u001b[0m\u001b[0m\n\u001b[0;32m      4\u001b[0m \u001b[1;32mfrom\u001b[0m \u001b[0mpynq\u001b[0m \u001b[1;32mimport\u001b[0m \u001b[0mXlnk\u001b[0m\u001b[1;33m\u001b[0m\u001b[1;33m\u001b[0m\u001b[0m\n",
      "\u001b[1;31mModuleNotFoundError\u001b[0m: No module named 'pynq'"
     ]
    }
   ],
   "source": [
    "from pynq import Overlay\n",
    "import pynq.lib.dma\n",
    "import numpy as np\n",
    "from pynq import Xlnk"
   ]
  },
  {
   "cell_type": "code",
   "execution_count": 3,
   "metadata": {},
   "outputs": [],
   "source": [
    "# generate a sequence of random numbers to test on\n",
    "# and return the solution\n",
    "import numpy as np\n",
    "def gen_pattern():\n",
    "    n_input = 512\n",
    "    n_output = 10\n",
    "    Bx,Bw = 7,6\n",
    "    mask_x = 0x7F\n",
    "    mask_w = 0x3F\n",
    "    w = np.random.randint(-2**(Bw-1),2**(Bw-1),size=(n_input,n_output))\n",
    "    x = np.random.randint(0,2**Bx,size=n_input)\n",
    "    packets = []\n",
    "    for i in range(n_input):\n",
    "        p = 0\n",
    "        if i % 4 == 0:\n",
    "            p |= (0b11 if i == 0 else 0b01) << 30\n",
    "            p |= (x[i+0] & mask_x) << 21\n",
    "            p |= (x[i+1] & mask_x) << 14\n",
    "            p |= (x[i+2] & mask_x) << 7\n",
    "            p |= (x[i+3] & mask_x)\n",
    "            packets.append(p)\n",
    "        w0 = 0\n",
    "        w0 |= (w[i][0] & mask_w) << 24\n",
    "        w0 |= (w[i][1] & mask_w) << 18\n",
    "        w0 |= (w[i][2] & mask_w) << 12\n",
    "        w0 |= (w[i][3] & mask_w) << 6\n",
    "        w0 |= (w[i][4] & mask_w)\n",
    "        packets.append(w0)\n",
    "        w1 = 0\n",
    "        w1 |= (w[i][5] & mask_w) << 24\n",
    "        w1 |= (w[i][6] & mask_w) << 18\n",
    "        w1 |= (w[i][7] & mask_w) << 12\n",
    "        w1 |= (w[i][8] & mask_w) << 6\n",
    "        w1 |= (w[i][9] & mask_w)\n",
    "        packets.append(w1)\n",
    "    return np.array(packets), w, x"
   ]
  },
  {
   "cell_type": "code",
   "execution_count": 4,
   "metadata": {},
   "outputs": [
    {
     "ename": "NameError",
     "evalue": "name 'Overlay' is not defined",
     "output_type": "error",
     "traceback": [
      "\u001b[1;31m---------------------------------------------------------------------------\u001b[0m",
      "\u001b[1;31mNameError\u001b[0m                                 Traceback (most recent call last)",
      "\u001b[1;32m<ipython-input-4-7b61f568ac9e>\u001b[0m in \u001b[0;36m<module>\u001b[1;34m\u001b[0m\n\u001b[1;32m----> 1\u001b[1;33m \u001b[0moverlay\u001b[0m \u001b[1;33m=\u001b[0m \u001b[0mOverlay\u001b[0m\u001b[1;33m(\u001b[0m\u001b[1;34m'linear.bit'\u001b[0m\u001b[1;33m)\u001b[0m\u001b[1;33m\u001b[0m\u001b[1;33m\u001b[0m\u001b[0m\n\u001b[0m\u001b[0;32m      2\u001b[0m \u001b[0mdma\u001b[0m \u001b[1;33m=\u001b[0m \u001b[0moverlay\u001b[0m\u001b[1;33m.\u001b[0m\u001b[0maxi_dma_0\u001b[0m\u001b[1;33m\u001b[0m\u001b[1;33m\u001b[0m\u001b[0m\n\u001b[0;32m      3\u001b[0m \u001b[0moverlay\u001b[0m\u001b[1;33m.\u001b[0m\u001b[0mreset\u001b[0m\u001b[1;33m(\u001b[0m\u001b[1;33m)\u001b[0m\u001b[1;33m\u001b[0m\u001b[1;33m\u001b[0m\u001b[0m\n",
      "\u001b[1;31mNameError\u001b[0m: name 'Overlay' is not defined"
     ]
    }
   ],
   "source": [
    "overlay = Overlay('linear.bit')\n",
    "dma = overlay.axi_dma_0\n",
    "overlay.reset()"
   ]
  },
  {
   "cell_type": "markdown",
   "metadata": {},
   "source": [
    "#### Print the convolution samples and the solution"
   ]
  },
  {
   "cell_type": "code",
   "execution_count": 5,
   "metadata": {},
   "outputs": [
    {
     "name": "stdout",
     "output_type": "stream",
     "text": [
      "[3235096868   34699531  898677344 ...  559271566  624955507  942016249] [ -15484 -101097  -69520   11637  -79166  -13801   11445  -36608  -35690\n",
      "    3763]\n"
     ]
    }
   ],
   "source": [
    "samples, w, x = gen_pattern()\n",
    "solution = np.dot(w.T, x)\n",
    "print(samples, solution)"
   ]
  },
  {
   "cell_type": "markdown",
   "metadata": {},
   "source": [
    "#### Test the hardware and print the result"
   ]
  },
  {
   "cell_type": "code",
   "execution_count": 5,
   "metadata": {},
   "outputs": [
    {
     "name": "stdout",
     "output_type": "stream",
     "text": [
      "CPU times: user 16.3 ms, sys: 0 ns, total: 16.3 ms\n",
      "Wall time: 15.9 ms\n"
     ]
    }
   ],
   "source": [
    "xlnk = Xlnk()\n",
    "out_buffer = xlnk.cma_array(shape=(10,), dtype=np.int32)\n",
    "in_buffer = xlnk.cma_array(shape=(1152,), dtype=np.int32)\n",
    "np.copyto(in_buffer, samples)\n",
    "\n",
    "dma.sendchannel.transfer(in_buffer)\n",
    "dma.recvchannel.transfer(out_buffer)"
   ]
  },
  {
   "cell_type": "code",
   "execution_count": 6,
   "metadata": {},
   "outputs": [
    {
     "name": "stdout",
     "output_type": "stream",
     "text": [
      "[-24791  39795 -22249 -33176 -54873  -7431 -44507  78349  42898 -22404]\n"
     ]
    }
   ],
   "source": [
    "print(out_buffer)"
   ]
  },
  {
   "cell_type": "code",
   "execution_count": null,
   "metadata": {},
   "outputs": [],
   "source": []
  }
 ],
 "metadata": {
  "kernelspec": {
   "display_name": "Python 3",
   "language": "python",
   "name": "python3"
  },
  "language_info": {
   "codemirror_mode": {
    "name": "ipython",
    "version": 3
   },
   "file_extension": ".py",
   "mimetype": "text/x-python",
   "name": "python",
   "nbconvert_exporter": "python",
   "pygments_lexer": "ipython3",
   "version": "3.6.7"
  }
 },
 "nbformat": 4,
 "nbformat_minor": 2
}
