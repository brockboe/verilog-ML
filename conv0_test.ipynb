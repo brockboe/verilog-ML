{
 "cells": [
  {
   "cell_type": "code",
   "execution_count": 2,
   "metadata": {},
   "outputs": [
    {
     "ename": "ModuleNotFoundError",
     "evalue": "No module named 'pynq'",
     "output_type": "error",
     "traceback": [
      "\u001b[1;31m---------------------------------------------------------------------------\u001b[0m",
      "\u001b[1;31mModuleNotFoundError\u001b[0m                       Traceback (most recent call last)",
      "\u001b[1;32m<ipython-input-2-9e4acb169bef>\u001b[0m in \u001b[0;36m<module>\u001b[1;34m\u001b[0m\n\u001b[1;32m----> 1\u001b[1;33m \u001b[1;32mfrom\u001b[0m \u001b[0mpynq\u001b[0m \u001b[1;32mimport\u001b[0m \u001b[0mOverlay\u001b[0m\u001b[1;33m\u001b[0m\u001b[1;33m\u001b[0m\u001b[0m\n\u001b[0m\u001b[0;32m      2\u001b[0m \u001b[1;32mimport\u001b[0m \u001b[0mpynq\u001b[0m\u001b[1;33m.\u001b[0m\u001b[0mlib\u001b[0m\u001b[1;33m.\u001b[0m\u001b[0mdma\u001b[0m\u001b[1;33m\u001b[0m\u001b[1;33m\u001b[0m\u001b[0m\n\u001b[0;32m      3\u001b[0m \u001b[1;32mimport\u001b[0m \u001b[0mnumpy\u001b[0m \u001b[1;32mas\u001b[0m \u001b[0mnp\u001b[0m\u001b[1;33m\u001b[0m\u001b[1;33m\u001b[0m\u001b[0m\n\u001b[0;32m      4\u001b[0m \u001b[1;32mfrom\u001b[0m \u001b[0mpynq\u001b[0m \u001b[1;32mimport\u001b[0m \u001b[0mXlnk\u001b[0m\u001b[1;33m\u001b[0m\u001b[1;33m\u001b[0m\u001b[0m\n",
      "\u001b[1;31mModuleNotFoundError\u001b[0m: No module named 'pynq'"
     ]
    }
   ],
   "source": [
    "from pynq import Overlay\n",
    "import pynq.lib.dma\n",
    "import numpy as np\n",
    "from pynq import Xlnk"
   ]
  },
  {
   "cell_type": "code",
   "execution_count": 2,
   "metadata": {},
   "outputs": [],
   "source": [
    "# bias = convolutional bias\n",
    "# weight_3d = 3 x 3 x 3 sized list containing the weight\n",
    "#             values\n",
    "# image_3d = 3 dimensional list representing the image,\n",
    "#            size 3 x 32 x 32 with zero-padding\n",
    "def FeedForwardConv0(bias, weight_3d, image_3d):    \n",
    "    pad = []\n",
    "    \n",
    "    # Add the padding to the image\n",
    "    for i in range(3):\n",
    "        pad.append(np.zeros((34, 34), dtype=np.int32))\n",
    "        pad[-1][1:33, 1:33] = np.asarray(image_3d[i], dtype=np.int32)\n",
    "        pad[-1] = pad[-1].flatten().tolist()\n",
    "\n",
    "    # Flatten the weight so we can feed it through serially\n",
    "    # into the hardware\n",
    "    flat_weight = []\n",
    "    for i in range(3):\n",
    "        flat_weight.append([weight for weight_2d in weight_3d[i] for weight in weight_2d])\n",
    "    \n",
    "    # 'samples' is what we will send through the hardware\n",
    "    feed = [bias]\n",
    "    feed = feed + flat_weight[0] + pad[0]\n",
    "    feed = feed + flat_weight[1] + pad[1]\n",
    "    feed = feed + flat_weight[2] + pad[2]\n",
    "    feed = feed + [0]\n",
    "    samples = np.asarray(feed).astype(np.int32)\n",
    "    slen = len(samples)\n",
    "    \n",
    "    # Send the data through\n",
    "    overlay = Overlay('fp.bit')\n",
    "    dma = overlay.axi_dma_0\n",
    "    overlay.reset()\n",
    "    \n",
    "    xlnk = Xlnk()\n",
    "    out_buffer = xlnk.cma_array(shape=(slen+5+1+1,), dtype=np.int32)\n",
    "    in_buffer = xlnk.cma_array(shape=(slen,), dtype=np.int32)\n",
    "    np.copyto(in_buffer, samples)\n",
    "    \n",
    "    dma.sendchannel.transfer(in_buffer)\n",
    "    dma.recvchannel.transfer(out_buffer)\n",
    "    \n",
    "    # Cut out the useless values returned from the hardware\n",
    "    # the pipelining creates some \"unintuitive\" slicing\n",
    "    out = []\n",
    "    for i in range(32):\n",
    "        off_index = 2330 + (i * 34) + 66 + 5 + 9 + 5 + 1 \n",
    "        out = out + list(out_buffer[off_index : off_index + 32])\n",
    "\n",
    "    # return the convolutional result\n",
    "    out = np.asarray(out).reshape((32, 32))\n",
    "    return out"
   ]
  },
  {
   "cell_type": "markdown",
   "metadata": {},
   "source": [
    "#### Test the hardware"
   ]
  },
  {
   "cell_type": "code",
   "execution_count": 3,
   "metadata": {},
   "outputs": [
    {
     "name": "stdout",
     "output_type": "stream",
     "text": [
      "[[  201   309   327 ...,   813   831   561]\n",
      " [  588   894   921 ...,  1650  1677  1128]\n",
      " [ 1164  1758  1785 ...,  2514  2541  1704]\n",
      " ..., \n",
      " [16716 25086 25113 ..., 25842 25869 17256]\n",
      " [17292 25950 25977 ..., 26706 26733 17832]\n",
      " [11721 17589 17607 ..., 18093 18111 12081]]\n"
     ]
    }
   ],
   "source": [
    "# Test the hardware using a weight of ones and an image of \n",
    "# a reshaped range(32, 32) with zero padding\n",
    "\n",
    "bias = 3\n",
    "weight = np.ones((3, 3, 3)).tolist()\n",
    "image = np.asarray(list(range(32*32))*3, dtype=np.int32).reshape((3, 32,32)).tolist()\n",
    "\n",
    "print('Hardware Output: ')\n",
    "print(FeedForwardConv0(bias, weight, image))"
   ]
  },
  {
   "cell_type": "markdown",
   "metadata": {},
   "source": [
    "#### Generate the correct output for comparison"
   ]
  },
  {
   "cell_type": "code",
   "execution_count": 8,
   "metadata": {},
   "outputs": [
    {
     "name": "stdout",
     "output_type": "stream",
     "text": [
      "[[  201.   309.   327. ...   813.   831.   561.]\n",
      " [  588.   894.   921. ...  1650.  1677.  1128.]\n",
      " [ 1164.  1758.  1785. ...  2514.  2541.  1704.]\n",
      " ...\n",
      " [16716. 25086. 25113. ... 25842. 25869. 17256.]\n",
      " [17292. 25950. 25977. ... 26706. 26733. 17832.]\n",
      " [11721. 17589. 17607. ... 18093. 18111. 12081.]]\n"
     ]
    }
   ],
   "source": [
    "import numpy as np\n",
    "\n",
    "def convPad(filt, image):\n",
    "    out = np.zeros((32, 32))\n",
    "    for i in range(34 - 2):\n",
    "        for j in range(34 - 2):\n",
    "            s = 0\n",
    "            s += filt[0][0] * image[i][j]\n",
    "            s += filt[0][1] * image[i][j + 1]\n",
    "            s += filt[0][2] * image[i][j + 2]\n",
    "            s += filt[1][0] * image[i + 1][j]\n",
    "            s += filt[1][1] * image[i + 1][j + 1]\n",
    "            s += filt[1][2] * image[i + 1][j + 2]\n",
    "            s += filt[2][0] * image[i + 2][j]\n",
    "            s += filt[2][1] * image[i + 2][j + 1]\n",
    "            s += filt[2][2] * image[i + 2][j + 2]\n",
    "            out[i][j] = s\n",
    "    return out\n",
    "\n",
    "filt = np.ones((3, 3))\n",
    "i = np.asarray(range(32*32), dtype=np.int32).reshape((32, 32))\n",
    "j = np.zeros((34, 34))\n",
    "j[1:33, 1:33] = i\n",
    "\n",
    "print('correct output: ')\n",
    "out = convPad(filt, j)*3 + 3\n",
    "print(out)"
   ]
  },
  {
   "cell_type": "code",
   "execution_count": null,
   "metadata": {},
   "outputs": [],
   "source": []
  }
 ],
 "metadata": {
  "kernelspec": {
   "display_name": "Python 3",
   "language": "python",
   "name": "python3"
  },
  "language_info": {
   "codemirror_mode": {
    "name": "ipython",
    "version": 3
   },
   "file_extension": ".py",
   "mimetype": "text/x-python",
   "name": "python",
   "nbconvert_exporter": "python",
   "pygments_lexer": "ipython3",
   "version": "3.6.7"
  }
 },
 "nbformat": 4,
 "nbformat_minor": 2
}
