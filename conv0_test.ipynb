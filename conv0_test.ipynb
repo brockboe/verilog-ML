{
 "cells": [
  {
   "cell_type": "code",
   "execution_count": 1,
   "metadata": {},
   "outputs": [
    {
     "data": {
      "application/javascript": [
       "\n",
       "require(['notebook/js/codecell'], function(codecell) {\n",
       "  codecell.CodeCell.options_default.highlight_modes[\n",
       "      'magic_text/x-csrc'] = {'reg':[/^%%microblaze/]};\n",
       "  Jupyter.notebook.events.one('kernel_ready.Kernel', function(){\n",
       "      Jupyter.notebook.get_cells().map(function(cell){\n",
       "          if (cell.cell_type == 'code'){ cell.auto_highlight(); } }) ;\n",
       "  });\n",
       "});\n"
      ]
     },
     "metadata": {},
     "output_type": "display_data"
    }
   ],
   "source": [
    "from pynq import Overlay\n",
    "import pynq.lib.dma\n",
    "import numpy as np\n",
    "from pynq import Xlnk"
   ]
  },
  {
   "cell_type": "code",
   "execution_count": 2,
   "metadata": {},
   "outputs": [],
   "source": [
    "def FeedForwardConv0(bias, weight_3d, image_3d):    \n",
    "    pad = []\n",
    "    for i in range(3):\n",
    "        pad.append(np.zeros((34, 34), dtype=np.int32))\n",
    "        pad[-1][1:33, 1:33] = np.asarray(image_3d[i], dtype=np.int32)\n",
    "        pad[-1] = pad[-1].flatten().tolist()\n",
    "\n",
    "    flat_weight = []\n",
    "    for i in range(3):\n",
    "        flat_weight.append([weight for weight_2d in weight_3d[i] for weight in weight_2d])\n",
    "        \n",
    "    feed = [bias]\n",
    "    feed = feed + flat_weight[0] + pad[0]\n",
    "    feed = feed + flat_weight[1] + pad[1]\n",
    "    feed = feed + flat_weight[2] + pad[2]\n",
    "    feed = feed + [0]\n",
    "    samples = np.asarray(feed).astype(np.int32)\n",
    "    slen = len(samples)\n",
    "    \n",
    "    overlay = Overlay('fp.bit')\n",
    "    dma = overlay.axi_dma_0\n",
    "    overlay.reset()\n",
    "    \n",
    "    xlnk = Xlnk()\n",
    "    out_buffer = xlnk.cma_array(shape=(slen+5+1+1,), dtype=np.int32)\n",
    "    in_buffer = xlnk.cma_array(shape=(slen,), dtype=np.int32)\n",
    "    np.copyto(in_buffer, samples)\n",
    "    \n",
    "    dma.sendchannel.transfer(in_buffer)\n",
    "    dma.recvchannel.transfer(out_buffer)\n",
    "    \n",
    "    out = []\n",
    "    for i in range(32):\n",
    "        off_index = 2330 + (i * 34) + 66 + 5 + 9 + 5 + 1 \n",
    "        out = out + list(out_buffer[off_index : off_index + 32])\n",
    "\n",
    "    out = np.asarray(out).reshape((32, 32))\n",
    "    return out"
   ]
  },
  {
   "cell_type": "code",
   "execution_count": 3,
   "metadata": {},
   "outputs": [
    {
     "name": "stdout",
     "output_type": "stream",
     "text": [
      "[[  201   309   327 ...,   813   831   561]\n",
      " [  588   894   921 ...,  1650  1677  1128]\n",
      " [ 1164  1758  1785 ...,  2514  2541  1704]\n",
      " ..., \n",
      " [16716 25086 25113 ..., 25842 25869 17256]\n",
      " [17292 25950 25977 ..., 26706 26733 17832]\n",
      " [11721 17589 17607 ..., 18093 18111 12081]]\n"
     ]
    }
   ],
   "source": [
    "bias = 3\n",
    "weight = np.ones((3, 3, 3)).tolist()\n",
    "image = np.asarray(list(range(32*32))*3, dtype=np.int32).reshape((3, 32,32)).tolist()\n",
    "\n",
    "print(FeedForwardConv0(bias, weight, image))"
   ]
  },
  {
   "cell_type": "code",
   "execution_count": null,
   "metadata": {},
   "outputs": [],
   "source": []
  }
 ],
 "metadata": {
  "kernelspec": {
   "display_name": "Python 3",
   "language": "python",
   "name": "python3"
  },
  "language_info": {
   "codemirror_mode": {
    "name": "ipython",
    "version": 3
   },
   "file_extension": ".py",
   "mimetype": "text/x-python",
   "name": "python",
   "nbconvert_exporter": "python",
   "pygments_lexer": "ipython3",
   "version": "3.6.5"
  }
 },
 "nbformat": 4,
 "nbformat_minor": 2
}
